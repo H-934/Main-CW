{
 "cells": [
  {
   "cell_type": "code",
   "execution_count": null,
   "metadata": {},
   "outputs": [],
   "source": [
    "def clf_performance(X_train,y_train,X_test,y_test,X_val, y_val,pipline,label_map):\n",
    "    \"\"\"\n",
    "    Print classification performance\"\n",
    "    \"\"\"\n",
    "    Print(\"### Train Set ### \\n\")\n",
    "    confusion_matrix_and_report(X_train,y_train,pipline,label_map)\n",
    "\n",
    "    Print(\"### Validation Set ### \\n\")\n",
    "    confusion_matrix_and_report(X_val, y_val,pipline,label_map)\n",
    "\n",
    "\n",
    "    Print(\"### Test Set ### \\n\")\n",
    "    confusion_matrix_and_report(X_test,y_test,pipline,label_map)"
   ]
  },
  {
   "cell_type": "code",
   "execution_count": null,
   "metadata": {},
   "outputs": [],
   "source": [
    "clf_performance(X_train,y_train,\n",
    "                X_test,y_test,\n",
    "                X_val, y_val,\n",
    "                model,\n",
    "                label_map= Class~_names\n",
    "                )"
   ]
  },
  {
   "cell_type": "code",
   "execution_count": null,
   "metadata": {},
   "outputs": [],
   "source": [
    "index = 102\n",
    "my~_garment = X_test[index]\n",
    "class_index = np.argmax(y_test[index])\n",
    "print(my_garment.shape)\n",
    "print(y_test[index])\n",
    "print(f\"This is '{class_name[class index]}'\")\n",
    "\n",
    "sns.set_style('white')\n",
    "plt.imshow(my_garment.reshape(28,28), cmap= 'gray')\n",
    "plt.show()"
   ]
  },
  {
   "cell_type": "code",
   "execution_count": null,
   "metadata": {},
   "outputs": [],
   "source": [
    "my_garment.shape"
   ]
  },
  {
   "cell_type": "code",
   "execution_count": null,
   "metadata": {},
   "outputs": [],
   "source": [
    "live_data = np.expand_dims(my_garment, axis=0)\n",
    "print(live_data.shape)"
   ]
  },
  {
   "cell_type": "code",
   "execution_count": null,
   "metadata": {},
   "outputs": [],
   "source": [
    "prediction_proba = model.predict(live_data)\n",
    "prediction_proba"
   ]
  },
  {
   "cell_type": "code",
   "execution_count": null,
   "metadata": {},
   "outputs": [],
   "source": [
    "prediction_class = np.argmax(prediction_proba, axis=1)\n",
    "prediction_class"
   ]
  },
  {
   "cell_type": "code",
   "execution_count": null,
   "metadata": {},
   "outputs": [],
   "source": [
    "prob_per_class= pd.DataFrame~(data=prediction_proba[0],\n",
    "                              columns=['Probabilty']\n",
    "                              )\n",
    "\n",
    "prob_per_class = prob_per_class.round(3)\n",
    "\n",
    "prob_per_class['Results'] = class_names\n",
    "\n",
    "prob_per_class"
   ]
  },
  {
   "cell_type": "code",
   "execution_count": null,
   "metadata": {},
   "outputs": [],
   "source": [
    "fig = px.bar(\n",
    "    prob_per_class,\n",
    "    x = 'Results',\n",
    "    y = 'Probability',\n",
    "    range_y=[0,1],\n",
    "    width=600, height=400, template='seaborn')\n",
    "fig.update_xaxes(type= 'category')\n",
    "fig.show()"
   ]
  }
 ],
 "metadata": {
  "kernelspec": {
   "display_name": "Python 3",
   "language": "python",
   "name": "python3"
  },
  "language_info": {
   "codemirror_mode": {
    "name": "ipython",
    "version": 3
   },
   "file_extension": ".py",
   "mimetype": "text/x-python",
   "name": "python",
   "nbconvert_exporter": "python",
   "pygments_lexer": "ipython3",
   "version": "3.12.1"
  }
 },
 "nbformat": 4,
 "nbformat_minor": 2
}
